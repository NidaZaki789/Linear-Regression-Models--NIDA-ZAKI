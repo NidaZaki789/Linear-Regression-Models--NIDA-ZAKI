{
 "cells": [
  {
   "cell_type": "markdown",
   "id": "5dfbdf1f",
   "metadata": {},
   "source": [
    "#### Import the libraries"
   ]
  },
  {
   "cell_type": "code",
   "execution_count": 1,
   "id": "223399fa",
   "metadata": {},
   "outputs": [],
   "source": [
    "import numpy as np\n",
    "import pandas as pd\n",
    "import matplotlib.pyplot as plt\n",
    "import seaborn as sns"
   ]
  },
  {
   "cell_type": "markdown",
   "id": "0e298e34",
   "metadata": {},
   "source": [
    "#### Read the dataset"
   ]
  },
  {
   "cell_type": "code",
   "execution_count": 3,
   "id": "0c21155a",
   "metadata": {},
   "outputs": [
    {
     "data": {
      "text/html": [
       "<div>\n",
       "<style scoped>\n",
       "    .dataframe tbody tr th:only-of-type {\n",
       "        vertical-align: middle;\n",
       "    }\n",
       "\n",
       "    .dataframe tbody tr th {\n",
       "        vertical-align: top;\n",
       "    }\n",
       "\n",
       "    .dataframe thead th {\n",
       "        text-align: right;\n",
       "    }\n",
       "</style>\n",
       "<table border=\"1\" class=\"dataframe\">\n",
       "  <thead>\n",
       "    <tr style=\"text-align: right;\">\n",
       "      <th></th>\n",
       "      <th>origin</th>\n",
       "      <th>cylinders</th>\n",
       "      <th>displacement</th>\n",
       "      <th>horsepower</th>\n",
       "      <th>weight</th>\n",
       "      <th>acceleration</th>\n",
       "      <th>year</th>\n",
       "      <th>name</th>\n",
       "      <th>Kilometer_per_liter</th>\n",
       "    </tr>\n",
       "  </thead>\n",
       "  <tbody>\n",
       "    <tr>\n",
       "      <th>0</th>\n",
       "      <td>1</td>\n",
       "      <td>8</td>\n",
       "      <td>307.0</td>\n",
       "      <td>130</td>\n",
       "      <td>3504</td>\n",
       "      <td>12.0</td>\n",
       "      <td>1970</td>\n",
       "      <td>chevrolet chevelle malibu</td>\n",
       "      <td>7.652587</td>\n",
       "    </tr>\n",
       "    <tr>\n",
       "      <th>1</th>\n",
       "      <td>1</td>\n",
       "      <td>8</td>\n",
       "      <td>350.0</td>\n",
       "      <td>165</td>\n",
       "      <td>3693</td>\n",
       "      <td>11.5</td>\n",
       "      <td>1970</td>\n",
       "      <td>buick skylark 320</td>\n",
       "      <td>6.377156</td>\n",
       "    </tr>\n",
       "    <tr>\n",
       "      <th>2</th>\n",
       "      <td>1</td>\n",
       "      <td>8</td>\n",
       "      <td>318.0</td>\n",
       "      <td>150</td>\n",
       "      <td>3436</td>\n",
       "      <td>11.0</td>\n",
       "      <td>1970</td>\n",
       "      <td>plymouth satellite</td>\n",
       "      <td>7.652587</td>\n",
       "    </tr>\n",
       "    <tr>\n",
       "      <th>3</th>\n",
       "      <td>1</td>\n",
       "      <td>8</td>\n",
       "      <td>304.0</td>\n",
       "      <td>150</td>\n",
       "      <td>3433</td>\n",
       "      <td>12.0</td>\n",
       "      <td>1970</td>\n",
       "      <td>amc rebel sst</td>\n",
       "      <td>6.802299</td>\n",
       "    </tr>\n",
       "    <tr>\n",
       "      <th>4</th>\n",
       "      <td>1</td>\n",
       "      <td>8</td>\n",
       "      <td>302.0</td>\n",
       "      <td>140</td>\n",
       "      <td>3449</td>\n",
       "      <td>10.5</td>\n",
       "      <td>1970</td>\n",
       "      <td>ford torino</td>\n",
       "      <td>7.227443</td>\n",
       "    </tr>\n",
       "  </tbody>\n",
       "</table>\n",
       "</div>"
      ],
      "text/plain": [
       "   origin  cylinders  displacement horsepower  weight  acceleration  year  \\\n",
       "0       1          8         307.0        130    3504          12.0  1970   \n",
       "1       1          8         350.0        165    3693          11.5  1970   \n",
       "2       1          8         318.0        150    3436          11.0  1970   \n",
       "3       1          8         304.0        150    3433          12.0  1970   \n",
       "4       1          8         302.0        140    3449          10.5  1970   \n",
       "\n",
       "                        name  Kilometer_per_liter  \n",
       "0  chevrolet chevelle malibu             7.652587  \n",
       "1          buick skylark 320             6.377156  \n",
       "2         plymouth satellite             7.652587  \n",
       "3              amc rebel sst             6.802299  \n",
       "4                ford torino             7.227443  "
      ]
     },
     "execution_count": 3,
     "metadata": {},
     "output_type": "execute_result"
    }
   ],
   "source": [
    "df = pd.read_csv('vehicle_data.csv')\n",
    "df.head()"
   ]
  },
  {
   "cell_type": "code",
   "execution_count": 5,
   "id": "aa9b2801",
   "metadata": {},
   "outputs": [
    {
     "data": {
      "text/plain": [
       "(398, 9)"
      ]
     },
     "execution_count": 5,
     "metadata": {},
     "output_type": "execute_result"
    }
   ],
   "source": [
    "df.shape\n",
    "# rows = 398,cols=9"
   ]
  },
  {
   "cell_type": "markdown",
   "id": "6962e88f",
   "metadata": {},
   "source": [
    "### Data Preprocessing"
   ]
  },
  {
   "cell_type": "markdown",
   "id": "691e6f94",
   "metadata": {},
   "source": [
    "#### 1) Handling Null Values"
   ]
  },
  {
   "cell_type": "code",
   "execution_count": 6,
   "id": "f99d893e",
   "metadata": {},
   "outputs": [],
   "source": [
    "def count_per_null(data):\n",
    "    nv = data.isnull().sum()\n",
    "    nv = nv[nv>0]\n",
    "    nv_df = pd.DataFrame({'Features':nv.index,'Count_Null':nv.values,\n",
    "                         'Per_Null': (nv.values/data.shape[0])*100})\n",
    "    nv_df = nv_df.sort_values('Per_Null',ascending=False)\n",
    "    return nv_df"
   ]
  },
  {
   "cell_type": "code",
   "execution_count": 7,
   "id": "b3e8d689",
   "metadata": {},
   "outputs": [
    {
     "data": {
      "text/html": [
       "<div>\n",
       "<style scoped>\n",
       "    .dataframe tbody tr th:only-of-type {\n",
       "        vertical-align: middle;\n",
       "    }\n",
       "\n",
       "    .dataframe tbody tr th {\n",
       "        vertical-align: top;\n",
       "    }\n",
       "\n",
       "    .dataframe thead th {\n",
       "        text-align: right;\n",
       "    }\n",
       "</style>\n",
       "<table border=\"1\" class=\"dataframe\">\n",
       "  <thead>\n",
       "    <tr style=\"text-align: right;\">\n",
       "      <th></th>\n",
       "      <th>Features</th>\n",
       "      <th>Count_Null</th>\n",
       "      <th>Per_Null</th>\n",
       "    </tr>\n",
       "  </thead>\n",
       "  <tbody>\n",
       "  </tbody>\n",
       "</table>\n",
       "</div>"
      ],
      "text/plain": [
       "Empty DataFrame\n",
       "Columns: [Features, Count_Null, Per_Null]\n",
       "Index: []"
      ]
     },
     "execution_count": 7,
     "metadata": {},
     "output_type": "execute_result"
    }
   ],
   "source": [
    "res = count_per_null(df)\n",
    "res"
   ]
  },
  {
   "cell_type": "markdown",
   "id": "6061a75b",
   "metadata": {},
   "source": [
    "#### 2) Handling duplicates"
   ]
  },
  {
   "cell_type": "code",
   "execution_count": 8,
   "id": "36721903",
   "metadata": {},
   "outputs": [
    {
     "data": {
      "text/plain": [
       "0"
      ]
     },
     "execution_count": 8,
     "metadata": {},
     "output_type": "execute_result"
    }
   ],
   "source": [
    "df.duplicated().sum()"
   ]
  },
  {
   "cell_type": "markdown",
   "id": "d5c9a62e",
   "metadata": {},
   "source": [
    "#### 3) Check data types"
   ]
  },
  {
   "cell_type": "code",
   "execution_count": 9,
   "id": "ddd8e944",
   "metadata": {},
   "outputs": [
    {
     "data": {
      "text/plain": [
       "origin                   int64\n",
       "cylinders                int64\n",
       "displacement           float64\n",
       "horsepower              object\n",
       "weight                   int64\n",
       "acceleration           float64\n",
       "year                     int64\n",
       "name                    object\n",
       "Kilometer_per_liter    float64\n",
       "dtype: object"
      ]
     },
     "execution_count": 9,
     "metadata": {},
     "output_type": "execute_result"
    }
   ],
   "source": [
    "df.dtypes"
   ]
  },
  {
   "cell_type": "code",
   "execution_count": 10,
   "id": "07f0790f",
   "metadata": {},
   "outputs": [
    {
     "ename": "ValueError",
     "evalue": "invalid literal for int() with base 10: '?'",
     "output_type": "error",
     "traceback": [
      "\u001b[1;31m---------------------------------------------------------------------------\u001b[0m",
      "\u001b[1;31mValueError\u001b[0m                                Traceback (most recent call last)",
      "Cell \u001b[1;32mIn[10], line 3\u001b[0m\n\u001b[0;32m      1\u001b[0m \u001b[38;5;66;03m# df['horsepower'] = pd.to_numeric(df['horsepower'])\u001b[39;00m\n\u001b[1;32m----> 3\u001b[0m df[\u001b[38;5;124m'\u001b[39m\u001b[38;5;124mhorsepower\u001b[39m\u001b[38;5;124m'\u001b[39m] \u001b[38;5;241m=\u001b[39m \u001b[43mdf\u001b[49m\u001b[43m[\u001b[49m\u001b[38;5;124;43m'\u001b[39;49m\u001b[38;5;124;43mhorsepower\u001b[39;49m\u001b[38;5;124;43m'\u001b[39;49m\u001b[43m]\u001b[49m\u001b[38;5;241;43m.\u001b[39;49m\u001b[43mastype\u001b[49m\u001b[43m(\u001b[49m\u001b[38;5;28;43mint\u001b[39;49m\u001b[43m)\u001b[49m\n",
      "File \u001b[1;32m~\\anaconda3\\lib\\site-packages\\pandas\\core\\generic.py:6240\u001b[0m, in \u001b[0;36mNDFrame.astype\u001b[1;34m(self, dtype, copy, errors)\u001b[0m\n\u001b[0;32m   6233\u001b[0m     results \u001b[38;5;241m=\u001b[39m [\n\u001b[0;32m   6234\u001b[0m         \u001b[38;5;28mself\u001b[39m\u001b[38;5;241m.\u001b[39miloc[:, i]\u001b[38;5;241m.\u001b[39mastype(dtype, copy\u001b[38;5;241m=\u001b[39mcopy)\n\u001b[0;32m   6235\u001b[0m         \u001b[38;5;28;01mfor\u001b[39;00m i \u001b[38;5;129;01min\u001b[39;00m \u001b[38;5;28mrange\u001b[39m(\u001b[38;5;28mlen\u001b[39m(\u001b[38;5;28mself\u001b[39m\u001b[38;5;241m.\u001b[39mcolumns))\n\u001b[0;32m   6236\u001b[0m     ]\n\u001b[0;32m   6238\u001b[0m \u001b[38;5;28;01melse\u001b[39;00m:\n\u001b[0;32m   6239\u001b[0m     \u001b[38;5;66;03m# else, only a single dtype is given\u001b[39;00m\n\u001b[1;32m-> 6240\u001b[0m     new_data \u001b[38;5;241m=\u001b[39m \u001b[38;5;28;43mself\u001b[39;49m\u001b[38;5;241;43m.\u001b[39;49m\u001b[43m_mgr\u001b[49m\u001b[38;5;241;43m.\u001b[39;49m\u001b[43mastype\u001b[49m\u001b[43m(\u001b[49m\u001b[43mdtype\u001b[49m\u001b[38;5;241;43m=\u001b[39;49m\u001b[43mdtype\u001b[49m\u001b[43m,\u001b[49m\u001b[43m \u001b[49m\u001b[43mcopy\u001b[49m\u001b[38;5;241;43m=\u001b[39;49m\u001b[43mcopy\u001b[49m\u001b[43m,\u001b[49m\u001b[43m \u001b[49m\u001b[43merrors\u001b[49m\u001b[38;5;241;43m=\u001b[39;49m\u001b[43merrors\u001b[49m\u001b[43m)\u001b[49m\n\u001b[0;32m   6241\u001b[0m     \u001b[38;5;28;01mreturn\u001b[39;00m \u001b[38;5;28mself\u001b[39m\u001b[38;5;241m.\u001b[39m_constructor(new_data)\u001b[38;5;241m.\u001b[39m__finalize__(\u001b[38;5;28mself\u001b[39m, method\u001b[38;5;241m=\u001b[39m\u001b[38;5;124m\"\u001b[39m\u001b[38;5;124mastype\u001b[39m\u001b[38;5;124m\"\u001b[39m)\n\u001b[0;32m   6243\u001b[0m \u001b[38;5;66;03m# GH 33113: handle empty frame or series\u001b[39;00m\n",
      "File \u001b[1;32m~\\anaconda3\\lib\\site-packages\\pandas\\core\\internals\\managers.py:448\u001b[0m, in \u001b[0;36mBaseBlockManager.astype\u001b[1;34m(self, dtype, copy, errors)\u001b[0m\n\u001b[0;32m    447\u001b[0m \u001b[38;5;28;01mdef\u001b[39;00m \u001b[38;5;21mastype\u001b[39m(\u001b[38;5;28mself\u001b[39m: T, dtype, copy: \u001b[38;5;28mbool\u001b[39m \u001b[38;5;241m=\u001b[39m \u001b[38;5;28;01mFalse\u001b[39;00m, errors: \u001b[38;5;28mstr\u001b[39m \u001b[38;5;241m=\u001b[39m \u001b[38;5;124m\"\u001b[39m\u001b[38;5;124mraise\u001b[39m\u001b[38;5;124m\"\u001b[39m) \u001b[38;5;241m-\u001b[39m\u001b[38;5;241m>\u001b[39m T:\n\u001b[1;32m--> 448\u001b[0m     \u001b[38;5;28;01mreturn\u001b[39;00m \u001b[38;5;28;43mself\u001b[39;49m\u001b[38;5;241;43m.\u001b[39;49m\u001b[43mapply\u001b[49m\u001b[43m(\u001b[49m\u001b[38;5;124;43m\"\u001b[39;49m\u001b[38;5;124;43mastype\u001b[39;49m\u001b[38;5;124;43m\"\u001b[39;49m\u001b[43m,\u001b[49m\u001b[43m \u001b[49m\u001b[43mdtype\u001b[49m\u001b[38;5;241;43m=\u001b[39;49m\u001b[43mdtype\u001b[49m\u001b[43m,\u001b[49m\u001b[43m \u001b[49m\u001b[43mcopy\u001b[49m\u001b[38;5;241;43m=\u001b[39;49m\u001b[43mcopy\u001b[49m\u001b[43m,\u001b[49m\u001b[43m \u001b[49m\u001b[43merrors\u001b[49m\u001b[38;5;241;43m=\u001b[39;49m\u001b[43merrors\u001b[49m\u001b[43m)\u001b[49m\n",
      "File \u001b[1;32m~\\anaconda3\\lib\\site-packages\\pandas\\core\\internals\\managers.py:352\u001b[0m, in \u001b[0;36mBaseBlockManager.apply\u001b[1;34m(self, f, align_keys, ignore_failures, **kwargs)\u001b[0m\n\u001b[0;32m    350\u001b[0m         applied \u001b[38;5;241m=\u001b[39m b\u001b[38;5;241m.\u001b[39mapply(f, \u001b[38;5;241m*\u001b[39m\u001b[38;5;241m*\u001b[39mkwargs)\n\u001b[0;32m    351\u001b[0m     \u001b[38;5;28;01melse\u001b[39;00m:\n\u001b[1;32m--> 352\u001b[0m         applied \u001b[38;5;241m=\u001b[39m \u001b[38;5;28mgetattr\u001b[39m(b, f)(\u001b[38;5;241m*\u001b[39m\u001b[38;5;241m*\u001b[39mkwargs)\n\u001b[0;32m    353\u001b[0m \u001b[38;5;28;01mexcept\u001b[39;00m (\u001b[38;5;167;01mTypeError\u001b[39;00m, \u001b[38;5;167;01mNotImplementedError\u001b[39;00m):\n\u001b[0;32m    354\u001b[0m     \u001b[38;5;28;01mif\u001b[39;00m \u001b[38;5;129;01mnot\u001b[39;00m ignore_failures:\n",
      "File \u001b[1;32m~\\anaconda3\\lib\\site-packages\\pandas\\core\\internals\\blocks.py:526\u001b[0m, in \u001b[0;36mBlock.astype\u001b[1;34m(self, dtype, copy, errors)\u001b[0m\n\u001b[0;32m    508\u001b[0m \u001b[38;5;124;03m\"\"\"\u001b[39;00m\n\u001b[0;32m    509\u001b[0m \u001b[38;5;124;03mCoerce to the new dtype.\u001b[39;00m\n\u001b[0;32m    510\u001b[0m \n\u001b[1;32m   (...)\u001b[0m\n\u001b[0;32m    522\u001b[0m \u001b[38;5;124;03mBlock\u001b[39;00m\n\u001b[0;32m    523\u001b[0m \u001b[38;5;124;03m\"\"\"\u001b[39;00m\n\u001b[0;32m    524\u001b[0m values \u001b[38;5;241m=\u001b[39m \u001b[38;5;28mself\u001b[39m\u001b[38;5;241m.\u001b[39mvalues\n\u001b[1;32m--> 526\u001b[0m new_values \u001b[38;5;241m=\u001b[39m \u001b[43mastype_array_safe\u001b[49m\u001b[43m(\u001b[49m\u001b[43mvalues\u001b[49m\u001b[43m,\u001b[49m\u001b[43m \u001b[49m\u001b[43mdtype\u001b[49m\u001b[43m,\u001b[49m\u001b[43m \u001b[49m\u001b[43mcopy\u001b[49m\u001b[38;5;241;43m=\u001b[39;49m\u001b[43mcopy\u001b[49m\u001b[43m,\u001b[49m\u001b[43m \u001b[49m\u001b[43merrors\u001b[49m\u001b[38;5;241;43m=\u001b[39;49m\u001b[43merrors\u001b[49m\u001b[43m)\u001b[49m\n\u001b[0;32m    528\u001b[0m new_values \u001b[38;5;241m=\u001b[39m maybe_coerce_values(new_values)\n\u001b[0;32m    529\u001b[0m newb \u001b[38;5;241m=\u001b[39m \u001b[38;5;28mself\u001b[39m\u001b[38;5;241m.\u001b[39mmake_block(new_values)\n",
      "File \u001b[1;32m~\\anaconda3\\lib\\site-packages\\pandas\\core\\dtypes\\astype.py:299\u001b[0m, in \u001b[0;36mastype_array_safe\u001b[1;34m(values, dtype, copy, errors)\u001b[0m\n\u001b[0;32m    296\u001b[0m     \u001b[38;5;28;01mreturn\u001b[39;00m values\u001b[38;5;241m.\u001b[39mcopy()\n\u001b[0;32m    298\u001b[0m \u001b[38;5;28;01mtry\u001b[39;00m:\n\u001b[1;32m--> 299\u001b[0m     new_values \u001b[38;5;241m=\u001b[39m \u001b[43mastype_array\u001b[49m\u001b[43m(\u001b[49m\u001b[43mvalues\u001b[49m\u001b[43m,\u001b[49m\u001b[43m \u001b[49m\u001b[43mdtype\u001b[49m\u001b[43m,\u001b[49m\u001b[43m \u001b[49m\u001b[43mcopy\u001b[49m\u001b[38;5;241;43m=\u001b[39;49m\u001b[43mcopy\u001b[49m\u001b[43m)\u001b[49m\n\u001b[0;32m    300\u001b[0m \u001b[38;5;28;01mexcept\u001b[39;00m (\u001b[38;5;167;01mValueError\u001b[39;00m, \u001b[38;5;167;01mTypeError\u001b[39;00m):\n\u001b[0;32m    301\u001b[0m     \u001b[38;5;66;03m# e.g. astype_nansafe can fail on object-dtype of strings\u001b[39;00m\n\u001b[0;32m    302\u001b[0m     \u001b[38;5;66;03m#  trying to convert to float\u001b[39;00m\n\u001b[0;32m    303\u001b[0m     \u001b[38;5;28;01mif\u001b[39;00m errors \u001b[38;5;241m==\u001b[39m \u001b[38;5;124m\"\u001b[39m\u001b[38;5;124mignore\u001b[39m\u001b[38;5;124m\"\u001b[39m:\n",
      "File \u001b[1;32m~\\anaconda3\\lib\\site-packages\\pandas\\core\\dtypes\\astype.py:230\u001b[0m, in \u001b[0;36mastype_array\u001b[1;34m(values, dtype, copy)\u001b[0m\n\u001b[0;32m    227\u001b[0m     values \u001b[38;5;241m=\u001b[39m values\u001b[38;5;241m.\u001b[39mastype(dtype, copy\u001b[38;5;241m=\u001b[39mcopy)\n\u001b[0;32m    229\u001b[0m \u001b[38;5;28;01melse\u001b[39;00m:\n\u001b[1;32m--> 230\u001b[0m     values \u001b[38;5;241m=\u001b[39m \u001b[43mastype_nansafe\u001b[49m\u001b[43m(\u001b[49m\u001b[43mvalues\u001b[49m\u001b[43m,\u001b[49m\u001b[43m \u001b[49m\u001b[43mdtype\u001b[49m\u001b[43m,\u001b[49m\u001b[43m \u001b[49m\u001b[43mcopy\u001b[49m\u001b[38;5;241;43m=\u001b[39;49m\u001b[43mcopy\u001b[49m\u001b[43m)\u001b[49m\n\u001b[0;32m    232\u001b[0m \u001b[38;5;66;03m# in pandas we don't store numpy str dtypes, so convert to object\u001b[39;00m\n\u001b[0;32m    233\u001b[0m \u001b[38;5;28;01mif\u001b[39;00m \u001b[38;5;28misinstance\u001b[39m(dtype, np\u001b[38;5;241m.\u001b[39mdtype) \u001b[38;5;129;01mand\u001b[39;00m \u001b[38;5;28missubclass\u001b[39m(values\u001b[38;5;241m.\u001b[39mdtype\u001b[38;5;241m.\u001b[39mtype, \u001b[38;5;28mstr\u001b[39m):\n",
      "File \u001b[1;32m~\\anaconda3\\lib\\site-packages\\pandas\\core\\dtypes\\astype.py:170\u001b[0m, in \u001b[0;36mastype_nansafe\u001b[1;34m(arr, dtype, copy, skipna)\u001b[0m\n\u001b[0;32m    166\u001b[0m     \u001b[38;5;28;01mraise\u001b[39;00m \u001b[38;5;167;01mValueError\u001b[39;00m(msg)\n\u001b[0;32m    168\u001b[0m \u001b[38;5;28;01mif\u001b[39;00m copy \u001b[38;5;129;01mor\u001b[39;00m is_object_dtype(arr\u001b[38;5;241m.\u001b[39mdtype) \u001b[38;5;129;01mor\u001b[39;00m is_object_dtype(dtype):\n\u001b[0;32m    169\u001b[0m     \u001b[38;5;66;03m# Explicit copy, or required since NumPy can't view from / to object.\u001b[39;00m\n\u001b[1;32m--> 170\u001b[0m     \u001b[38;5;28;01mreturn\u001b[39;00m \u001b[43marr\u001b[49m\u001b[38;5;241;43m.\u001b[39;49m\u001b[43mastype\u001b[49m\u001b[43m(\u001b[49m\u001b[43mdtype\u001b[49m\u001b[43m,\u001b[49m\u001b[43m \u001b[49m\u001b[43mcopy\u001b[49m\u001b[38;5;241;43m=\u001b[39;49m\u001b[38;5;28;43;01mTrue\u001b[39;49;00m\u001b[43m)\u001b[49m\n\u001b[0;32m    172\u001b[0m \u001b[38;5;28;01mreturn\u001b[39;00m arr\u001b[38;5;241m.\u001b[39mastype(dtype, copy\u001b[38;5;241m=\u001b[39mcopy)\n",
      "\u001b[1;31mValueError\u001b[0m: invalid literal for int() with base 10: '?'"
     ]
    }
   ],
   "source": [
    "# df['horsepower'] = pd.to_numeric(df['horsepower'])\n",
    "\n",
    "df['horsepower'] = df['horsepower'].astype(int)"
   ]
  },
  {
   "cell_type": "code",
   "execution_count": 11,
   "id": "4754ce4d",
   "metadata": {},
   "outputs": [
    {
     "data": {
      "text/plain": [
       "array(['130', '165', '150', '140', '198', '220', '215', '225', '190',\n",
       "       '170', '160', '95', '97', '85', '88', '46', '87', '90', '113',\n",
       "       '200', '210', '193', '?', '100', '105', '175', '153', '180', '110',\n",
       "       '72', '86', '70', '76', '65', '69', '60', '80', '54', '208', '155',\n",
       "       '112', '92', '145', '137', '158', '167', '94', '107', '230', '49',\n",
       "       '75', '91', '122', '67', '83', '78', '52', '61', '93', '148',\n",
       "       '129', '96', '71', '98', '115', '53', '81', '79', '120', '152',\n",
       "       '102', '108', '68', '58', '149', '89', '63', '48', '66', '139',\n",
       "       '103', '125', '133', '138', '135', '142', '77', '62', '132', '84',\n",
       "       '64', '74', '116', '82'], dtype=object)"
      ]
     },
     "execution_count": 11,
     "metadata": {},
     "output_type": "execute_result"
    }
   ],
   "source": [
    "df['horsepower'].unique()"
   ]
  },
  {
   "cell_type": "code",
   "execution_count": 12,
   "id": "7eb7c120",
   "metadata": {},
   "outputs": [
    {
     "data": {
      "text/plain": [
       "(6, 9)"
      ]
     },
     "execution_count": 12,
     "metadata": {},
     "output_type": "execute_result"
    }
   ],
   "source": [
    "df[df['horsepower']=='?'].shape"
   ]
  },
  {
   "cell_type": "code",
   "execution_count": 14,
   "id": "6597ab14",
   "metadata": {},
   "outputs": [
    {
     "data": {
      "text/plain": [
       "(392, 9)"
      ]
     },
     "execution_count": 14,
     "metadata": {},
     "output_type": "execute_result"
    }
   ],
   "source": [
    "df = df[df['horsepower']!='?']\n",
    "df.shape"
   ]
  },
  {
   "cell_type": "code",
   "execution_count": 16,
   "id": "c2f7db43",
   "metadata": {},
   "outputs": [
    {
     "data": {
      "text/plain": [
       "origin                   int64\n",
       "cylinders                int64\n",
       "displacement           float64\n",
       "horsepower               int32\n",
       "weight                   int64\n",
       "acceleration           float64\n",
       "year                     int64\n",
       "name                    object\n",
       "Kilometer_per_liter    float64\n",
       "dtype: object"
      ]
     },
     "execution_count": 16,
     "metadata": {},
     "output_type": "execute_result"
    }
   ],
   "source": [
    "df['horsepower'] = df['horsepower'].astype(int)\n",
    "df.dtypes"
   ]
  },
  {
   "cell_type": "code",
   "execution_count": 17,
   "id": "f49e609e",
   "metadata": {},
   "outputs": [
    {
     "name": "stdout",
     "output_type": "stream",
     "text": [
      "301\n"
     ]
    }
   ],
   "source": [
    "print(df['name'].nunique())"
   ]
  },
  {
   "cell_type": "code",
   "execution_count": 19,
   "id": "37c224b8",
   "metadata": {},
   "outputs": [
    {
     "data": {
      "text/plain": [
       "0.7678571428571429"
      ]
     },
     "execution_count": 19,
     "metadata": {},
     "output_type": "execute_result"
    }
   ],
   "source": [
    "301/392"
   ]
  },
  {
   "cell_type": "code",
   "execution_count": 69,
   "id": "c57a48a3",
   "metadata": {},
   "outputs": [
    {
     "data": {
      "text/plain": [
       "array(['chevrolet chevelle malibu', 'buick skylark 320',\n",
       "       'plymouth satellite', 'amc rebel sst', 'ford torino',\n",
       "       'ford galaxie 500', 'chevrolet impala', 'plymouth fury iii',\n",
       "       'pontiac catalina', 'amc ambassador dpl', 'dodge challenger se',\n",
       "       \"plymouth 'cuda 340\", 'chevrolet monte carlo',\n",
       "       'buick estate wagon (sw)', 'toyota corona mark ii',\n",
       "       'plymouth duster', 'amc hornet', 'ford maverick', 'datsun pl510',\n",
       "       'volkswagen 1131 deluxe sedan', 'peugeot 504', 'audi 100 ls',\n",
       "       'saab 99e', 'bmw 2002', 'amc gremlin', 'ford f250', 'chevy c20',\n",
       "       'dodge d200', 'hi 1200d', 'chevrolet vega 2300', 'toyota corona',\n",
       "       'plymouth satellite custom', 'ford torino 500', 'amc matador',\n",
       "       'pontiac catalina brougham', 'dodge monaco (sw)',\n",
       "       'ford country squire (sw)', 'pontiac safari (sw)',\n",
       "       'amc hornet sportabout (sw)', 'chevrolet vega (sw)',\n",
       "       'pontiac firebird', 'ford mustang', 'mercury capri 2000',\n",
       "       'opel 1900', 'peugeot 304', 'fiat 124b', 'toyota corolla 1200',\n",
       "       'datsun 1200', 'volkswagen model 111', 'plymouth cricket',\n",
       "       'toyota corona hardtop', 'dodge colt hardtop', 'volkswagen type 3',\n",
       "       'chevrolet vega', 'ford pinto runabout', 'amc ambassador sst',\n",
       "       'mercury marquis', 'buick lesabre custom',\n",
       "       'oldsmobile delta 88 royale', 'chrysler newport royal',\n",
       "       'mazda rx2 coupe', 'amc matador (sw)',\n",
       "       'chevrolet chevelle concours (sw)', 'ford gran torino (sw)',\n",
       "       'plymouth satellite custom (sw)', 'volvo 145e (sw)',\n",
       "       'volkswagen 411 (sw)', 'peugeot 504 (sw)', 'renault 12 (sw)',\n",
       "       'ford pinto (sw)', 'datsun 510 (sw)',\n",
       "       'toyouta corona mark ii (sw)', 'dodge colt (sw)',\n",
       "       'toyota corolla 1600 (sw)', 'buick century 350',\n",
       "       'chevrolet malibu', 'ford gran torino', 'dodge coronet custom',\n",
       "       'mercury marquis brougham', 'chevrolet caprice classic',\n",
       "       'ford ltd', 'plymouth fury gran sedan',\n",
       "       'chrysler new yorker brougham', 'buick electra 225 custom',\n",
       "       'amc ambassador brougham', 'plymouth valiant',\n",
       "       'chevrolet nova custom', 'volkswagen super beetle', 'ford country',\n",
       "       'plymouth custom suburb', 'oldsmobile vista cruiser',\n",
       "       'toyota carina', 'datsun 610', 'maxda rx3', 'ford pinto',\n",
       "       'mercury capri v6', 'fiat 124 sport coupe',\n",
       "       'chevrolet monte carlo s', 'pontiac grand prix', 'fiat 128',\n",
       "       'opel manta', 'audi 100ls', 'volvo 144ea', 'dodge dart custom',\n",
       "       'saab 99le', 'toyota mark ii', 'oldsmobile omega',\n",
       "       'chevrolet nova', 'datsun b210',\n",
       "       'chevrolet chevelle malibu classic', 'plymouth satellite sebring',\n",
       "       'buick century luxus (sw)', 'dodge coronet custom (sw)',\n",
       "       'audi fox', 'volkswagen dasher', 'datsun 710', 'dodge colt',\n",
       "       'fiat 124 tc', 'honda civic', 'subaru', 'fiat x1.9',\n",
       "       'plymouth valiant custom', 'mercury monarch', 'chevrolet bel air',\n",
       "       'plymouth grand fury', 'buick century',\n",
       "       'chevroelt chevelle malibu', 'plymouth fury', 'buick skyhawk',\n",
       "       'chevrolet monza 2+2', 'ford mustang ii', 'toyota corolla',\n",
       "       'pontiac astro', 'volkswagen rabbit', 'amc pacer', 'volvo 244dl',\n",
       "       'honda civic cvcc', 'fiat 131', 'capri ii', 'renault 12tl',\n",
       "       'dodge coronet brougham', 'chevrolet chevette', 'chevrolet woody',\n",
       "       'vw rabbit', 'dodge aspen se', 'ford granada ghia',\n",
       "       'pontiac ventura sj', 'amc pacer d/l', 'datsun b-210', 'volvo 245',\n",
       "       'plymouth volare premier v8', 'mercedes-benz 280s',\n",
       "       'cadillac seville', 'chevy c10', 'ford f108', 'dodge d100',\n",
       "       'honda accord cvcc', 'buick opel isuzu deluxe', 'renault 5 gtl',\n",
       "       'plymouth arrow gs', 'datsun f-10 hatchback',\n",
       "       'oldsmobile cutlass supreme', 'dodge monaco brougham',\n",
       "       'mercury cougar brougham', 'chevrolet concours', 'buick skylark',\n",
       "       'plymouth volare custom', 'ford granada', 'pontiac grand prix lj',\n",
       "       'chevrolet monte carlo landau', 'chrysler cordoba',\n",
       "       'ford thunderbird', 'volkswagen rabbit custom',\n",
       "       'pontiac sunbird coupe', 'toyota corolla liftback',\n",
       "       'ford mustang ii 2+2', 'dodge colt m/m', 'subaru dl', 'datsun 810',\n",
       "       'bmw 320i', 'mazda rx-4', 'volkswagen rabbit custom diesel',\n",
       "       'ford fiesta', 'mazda glc deluxe', 'datsun b210 gx',\n",
       "       'oldsmobile cutlass salon brougham', 'dodge diplomat',\n",
       "       'mercury monarch ghia', 'pontiac phoenix lj',\n",
       "       'ford fairmont (auto)', 'ford fairmont (man)', 'plymouth volare',\n",
       "       'amc concord', 'buick century special', 'mercury zephyr',\n",
       "       'dodge aspen', 'amc concord d/l',\n",
       "       'buick regal sport coupe (turbo)', 'ford futura',\n",
       "       'dodge magnum xe', 'datsun 510', 'dodge omni',\n",
       "       'toyota celica gt liftback', 'plymouth sapporo',\n",
       "       'oldsmobile starfire sx', 'datsun 200-sx', 'audi 5000',\n",
       "       'volvo 264gl', 'saab 99gle', 'peugeot 604sl',\n",
       "       'volkswagen scirocco', 'honda accord lx', 'pontiac lemans v6',\n",
       "       'mercury zephyr 6', 'ford fairmont 4', 'amc concord dl 6',\n",
       "       'dodge aspen 6', 'ford ltd landau', 'mercury grand marquis',\n",
       "       'dodge st. regis', 'chevrolet malibu classic (sw)',\n",
       "       'chrysler lebaron town @ country (sw)', 'vw rabbit custom',\n",
       "       'maxda glc deluxe', 'dodge colt hatchback custom', 'amc spirit dl',\n",
       "       'mercedes benz 300d', 'cadillac eldorado', 'plymouth horizon',\n",
       "       'plymouth horizon tc3', 'datsun 210', 'fiat strada custom',\n",
       "       'buick skylark limited', 'chevrolet citation',\n",
       "       'oldsmobile omega brougham', 'pontiac phoenix',\n",
       "       'toyota corolla tercel', 'datsun 310', 'ford fairmont',\n",
       "       'audi 4000', 'toyota corona liftback', 'mazda 626',\n",
       "       'datsun 510 hatchback', 'mazda glc', 'vw rabbit c (diesel)',\n",
       "       'vw dasher (diesel)', 'audi 5000s (diesel)', 'mercedes-benz 240d',\n",
       "       'honda civic 1500 gl', 'vokswagen rabbit', 'datsun 280-zx',\n",
       "       'mazda rx-7 gs', 'triumph tr7 coupe', 'honda accord',\n",
       "       'plymouth reliant', 'dodge aries wagon (sw)', 'toyota starlet',\n",
       "       'plymouth champ', 'honda civic 1300', 'datsun 210 mpg',\n",
       "       'toyota tercel', 'mazda glc 4', 'plymouth horizon 4',\n",
       "       'ford escort 4w', 'ford escort 2h', 'volkswagen jetta',\n",
       "       'honda prelude', 'datsun 200sx', 'peugeot 505s turbo diesel',\n",
       "       'volvo diesel', 'toyota cressida', 'datsun 810 maxima',\n",
       "       'oldsmobile cutlass ls', 'ford granada gl',\n",
       "       'chrysler lebaron salon', 'chevrolet cavalier',\n",
       "       'chevrolet cavalier wagon', 'chevrolet cavalier 2-door',\n",
       "       'pontiac j2000 se hatchback', 'dodge aries se',\n",
       "       'ford fairmont futura', 'volkswagen rabbit l',\n",
       "       'mazda glc custom l', 'mazda glc custom', 'plymouth horizon miser',\n",
       "       'mercury lynx l', 'nissan stanza xe', 'honda civic (auto)',\n",
       "       'datsun 310 gx', 'buick century limited',\n",
       "       'oldsmobile cutlass ciera (diesel)', 'chrysler lebaron medallion',\n",
       "       'ford granada l', 'toyota celica gt', 'dodge charger 2.2',\n",
       "       'chevrolet camaro', 'ford mustang gl', 'vw pickup',\n",
       "       'dodge rampage', 'ford ranger', 'chevy s-10'], dtype=object)"
      ]
     },
     "execution_count": 69,
     "metadata": {},
     "output_type": "execute_result"
    }
   ],
   "source": [
    "df['name'].unique()"
   ]
  },
  {
   "cell_type": "code",
   "execution_count": 70,
   "id": "ee0f40fb",
   "metadata": {},
   "outputs": [
    {
     "name": "stdout",
     "output_type": "stream",
     "text": [
      "44\n",
      "['chevrolet chevelle malibu', 'chevrolet impala', 'chevrolet monte carlo', 'chevrolet vega 2300', 'chevrolet chevelle malibu', 'chevrolet impala', 'chevrolet vega (sw)', 'chevrolet vega', 'chevrolet impala', 'chevrolet chevelle concours (sw)', 'chevrolet malibu', 'chevrolet caprice classic', 'chevrolet nova custom', 'chevrolet impala', 'chevrolet vega', 'chevrolet monte carlo s', 'chevrolet nova', 'chevrolet vega', 'chevrolet chevelle malibu classic', 'chevrolet nova', 'chevrolet bel air', 'chevroelt chevelle malibu', 'chevrolet monza 2+2', 'chevrolet chevelle malibu classic', 'chevrolet nova', 'chevrolet chevette', 'chevrolet woody', 'chevrolet caprice classic', 'chevrolet concours', 'chevrolet monte carlo landau', 'chevrolet chevette', 'chevrolet malibu', 'chevrolet monte carlo landau', 'chevrolet chevette', 'chevrolet caprice classic', 'chevrolet malibu classic (sw)', 'chevrolet citation', 'chevrolet chevette', 'chevrolet citation', 'chevrolet citation', 'chevrolet cavalier', 'chevrolet cavalier wagon', 'chevrolet cavalier 2-door', 'chevrolet camaro']\n"
     ]
    }
   ],
   "source": [
    "chev_names = [i for i in df['name'] if i.startswith('chevr')]\n",
    "print(len(chev_names))\n",
    "print(chev_names)"
   ]
  },
  {
   "cell_type": "code",
   "execution_count": 110,
   "id": "6491900d",
   "metadata": {},
   "outputs": [
    {
     "name": "stdout",
     "output_type": "stream",
     "text": [
      "26\n",
      "['toyota corona mark ii', 'toyota corona', 'toyota corolla 1200', 'toyota corona hardtop', 'toyouta corona mark ii (sw)', 'toyota corolla 1600 (sw)', 'toyota carina', 'toyota mark ii', 'toyota corolla 1200', 'toyota corona', 'toyota corolla', 'toyota corona', 'toyota corolla', 'toyota mark ii', 'toyota corolla liftback', 'toyota corona', 'toyota celica gt liftback', 'toyota corolla tercel', 'toyota corona liftback', 'toyota corolla', 'toyota starlet', 'toyota tercel', 'toyota corolla', 'toyota cressida', 'toyota corolla', 'toyota celica gt']\n"
     ]
    }
   ],
   "source": [
    "toyota_names = [i for i in df['name'] if i.startswith('toyot') or \n",
    "                i.startswith('toyouta')]\n",
    "print(len(toyota_names))\n",
    "print(toyota_names)"
   ]
  },
  {
   "cell_type": "code",
   "execution_count": 72,
   "id": "f0fb7002",
   "metadata": {},
   "outputs": [
    {
     "name": "stdout",
     "output_type": "stream",
     "text": [
      "48\n",
      "['ford torino', 'ford galaxie 500', 'ford maverick', 'ford f250', 'ford torino 500', 'ford galaxie 500', 'ford country squire (sw)', 'ford mustang', 'ford pinto runabout', 'ford galaxie 500', 'ford gran torino (sw)', 'ford pinto (sw)', 'ford gran torino', 'ford ltd', 'ford maverick', 'ford country', 'ford pinto', 'ford pinto', 'ford gran torino', 'ford gran torino (sw)', 'ford maverick', 'ford ltd', 'ford mustang ii', 'ford pinto', 'ford pinto', 'ford gran torino', 'ford maverick', 'ford granada ghia', 'ford pinto', 'ford f108', 'ford granada', 'ford thunderbird', 'ford mustang ii 2+2', 'ford fiesta', 'ford fairmont (auto)', 'ford fairmont (man)', 'ford futura', 'ford fairmont 4', 'ford ltd landau', 'ford country squire (sw)', 'ford fairmont', 'ford escort 4w', 'ford escort 2h', 'ford granada gl', 'ford fairmont futura', 'ford granada l', 'ford mustang gl', 'ford ranger']\n"
     ]
    }
   ],
   "source": [
    "ford_names = [i for i in df['name'] if i.startswith('ford')]\n",
    "print(len(ford_names))\n",
    "print(ford_names)"
   ]
  },
  {
   "cell_type": "code",
   "execution_count": 73,
   "id": "84975273",
   "metadata": {},
   "outputs": [
    {
     "name": "stdout",
     "output_type": "stream",
     "text": [
      "27\n",
      "['amc rebel sst', 'amc ambassador dpl', 'amc hornet', 'amc gremlin', 'amc gremlin', 'amc matador', 'amc hornet sportabout (sw)', 'amc ambassador sst', 'amc matador (sw)', 'amc matador', 'amc ambassador brougham', 'amc hornet', 'amc gremlin', 'amc hornet', 'amc matador', 'amc matador (sw)', 'amc matador', 'amc gremlin', 'amc pacer', 'amc matador', 'amc hornet', 'amc pacer d/l', 'amc concord', 'amc concord d/l', 'amc concord dl 6', 'amc spirit dl', 'amc concord']\n"
     ]
    }
   ],
   "source": [
    "amc_names = [i for i in df['name'] if i.startswith('amc')]\n",
    "print(len(amc_names))\n",
    "print(amc_names)"
   ]
  },
  {
   "cell_type": "code",
   "execution_count": 74,
   "id": "a4e62b00",
   "metadata": {},
   "outputs": [
    {
     "name": "stdout",
     "output_type": "stream",
     "text": [
      "23\n",
      "['datsun pl510', 'datsun pl510', 'datsun 1200', 'datsun 510 (sw)', 'datsun 610', 'datsun b210', 'datsun 710', 'datsun 710', 'datsun b-210', 'datsun f-10 hatchback', 'datsun 810', 'datsun b210 gx', 'datsun 510', 'datsun 200-sx', 'datsun 210', 'datsun 310', 'datsun 510 hatchback', 'datsun 210', 'datsun 280-zx', 'datsun 210 mpg', 'datsun 200sx', 'datsun 810 maxima', 'datsun 310 gx']\n"
     ]
    }
   ],
   "source": [
    "datsun_names = [i for i in df['name'] if i.startswith('datsun')]\n",
    "print(len(datsun_names))\n",
    "print(datsun_names)"
   ]
  },
  {
   "cell_type": "code",
   "execution_count": 75,
   "id": "1df315e8",
   "metadata": {},
   "outputs": [
    {
     "name": "stdout",
     "output_type": "stream",
     "text": [
      "27\n",
      "['amc rebel sst', 'amc ambassador dpl', 'amc hornet', 'amc gremlin', 'amc gremlin', 'amc matador', 'amc hornet sportabout (sw)', 'amc ambassador sst', 'amc matador (sw)', 'amc matador', 'amc ambassador brougham', 'amc hornet', 'amc gremlin', 'amc hornet', 'amc matador', 'amc matador (sw)', 'amc matador', 'amc gremlin', 'amc pacer', 'amc matador', 'amc hornet', 'amc pacer d/l', 'amc concord', 'amc concord d/l', 'amc concord dl 6', 'amc spirit dl', 'amc concord']\n"
     ]
    }
   ],
   "source": [
    "amc_names = [i for i in df['name'] if i.startswith('amc')]\n",
    "print(len(amc_names))\n",
    "print(amc_names)"
   ]
  },
  {
   "cell_type": "code",
   "execution_count": 76,
   "id": "86501169",
   "metadata": {},
   "outputs": [
    {
     "name": "stdout",
     "output_type": "stream",
     "text": [
      "13\n",
      "['honda civic', 'honda civic cvcc', 'honda civic', 'honda accord cvcc', 'honda civic cvcc', 'honda accord lx', 'honda civic 1500 gl', 'honda accord', 'honda civic 1300', 'honda prelude', 'honda accord', 'honda civic', 'honda civic (auto)']\n"
     ]
    }
   ],
   "source": [
    "honda_names = [i for i in df['name'] if i.startswith('honda')]\n",
    "print(len(honda_names))\n",
    "print(honda_names)"
   ]
  },
  {
   "cell_type": "code",
   "execution_count": 77,
   "id": "2f9ee64d",
   "metadata": {},
   "outputs": [
    {
     "name": "stdout",
     "output_type": "stream",
     "text": [
      "28\n",
      "['dodge challenger se', 'dodge d200', 'dodge monaco (sw)', 'dodge colt hardtop', 'dodge colt (sw)', 'dodge coronet custom', 'dodge dart custom', 'dodge coronet custom (sw)', 'dodge colt', 'dodge colt', 'dodge coronet brougham', 'dodge aspen se', 'dodge d100', 'dodge monaco brougham', 'dodge colt m/m', 'dodge diplomat', 'dodge aspen', 'dodge magnum xe', 'dodge omni', 'dodge aspen 6', 'dodge st. regis', 'dodge colt hatchback custom', 'dodge aspen', 'dodge colt', 'dodge aries wagon (sw)', 'dodge aries se', 'dodge charger 2.2', 'dodge rampage']\n"
     ]
    }
   ],
   "source": [
    "dodge_names = [i for i in df['name'] if i.startswith('dodge')]\n",
    "print(len(dodge_names))\n",
    "print(dodge_names)"
   ]
  },
  {
   "cell_type": "code",
   "execution_count": 78,
   "id": "68ab4336",
   "metadata": {},
   "outputs": [
    {
     "name": "stdout",
     "output_type": "stream",
     "text": [
      "22\n",
      "['volkswagen 1131 deluxe sedan', 'volkswagen model 111', 'volkswagen type 3', 'volkswagen 411 (sw)', 'volkswagen super beetle', 'volkswagen dasher', 'volkswagen dasher', 'volkswagen rabbit', 'vw rabbit', 'volkswagen rabbit', 'volkswagen rabbit custom', 'volkswagen dasher', 'volkswagen rabbit custom diesel', 'volkswagen scirocco', 'vw rabbit custom', 'vw rabbit', 'vw rabbit c (diesel)', 'vw dasher (diesel)', 'vokswagen rabbit', 'volkswagen jetta', 'volkswagen rabbit l', 'vw pickup']\n"
     ]
    }
   ],
   "source": [
    "# volkswagen\n",
    "vol_names = [i for i in df['name'] if i.startswith('volkswagen') or \n",
    "            i.startswith('vw') or i.startswith('voks')]\n",
    "print(len(vol_names))\n",
    "print(vol_names)"
   ]
  },
  {
   "cell_type": "code",
   "execution_count": 79,
   "id": "20bb4e21",
   "metadata": {},
   "outputs": [
    {
     "name": "stdout",
     "output_type": "stream",
     "text": [
      "12\n",
      "['mazda rx2 coupe', 'maxda rx3', 'mazda rx-4', 'mazda glc deluxe', 'maxda glc deluxe', 'mazda 626', 'mazda glc', 'mazda rx-7 gs', 'mazda glc 4', 'mazda 626', 'mazda glc custom l', 'mazda glc custom']\n"
     ]
    }
   ],
   "source": [
    "# maxda, pontiac, plymouth\n",
    "maxda_names = [i for i in df['name'] if i.startswith('maxda') or \n",
    "               i.startswith('Maxda') or i.startswith('mazda')]\n",
    "print(len(maxda_names))\n",
    "print(maxda_names)"
   ]
  },
  {
   "cell_type": "code",
   "execution_count": 80,
   "id": "13fbbc8e",
   "metadata": {},
   "outputs": [
    {
     "name": "stdout",
     "output_type": "stream",
     "text": [
      "11\n",
      "['mercury capri 2000', 'mercury marquis', 'mercury marquis brougham', 'mercury capri v6', 'mercury monarch', 'mercury cougar brougham', 'mercury monarch ghia', 'mercury zephyr', 'mercury zephyr 6', 'mercury grand marquis', 'mercury lynx l']\n"
     ]
    }
   ],
   "source": [
    "mer_names = [i for i in df['name'] if i.startswith('mercu')]\n",
    "print(len(mer_names))\n",
    "print(mer_names)"
   ]
  },
  {
   "cell_type": "code",
   "execution_count": 102,
   "id": "27087098",
   "metadata": {},
   "outputs": [
    {
     "name": "stdout",
     "output_type": "stream",
     "text": [
      "3\n",
      "['mercedes-benz 280s', 'mercedes benz 300d', 'mercedes-benz 240d']\n"
     ]
    }
   ],
   "source": [
    "merz_names = [i for i in df['name'] if i.startswith('mercedes')]\n",
    "print(len(merz_names))\n",
    "print(merz_names)"
   ]
  },
  {
   "cell_type": "code",
   "execution_count": 83,
   "id": "ab6925b3",
   "metadata": {},
   "outputs": [
    {
     "name": "stdout",
     "output_type": "stream",
     "text": [
      "17\n",
      "['buick skylark 320', 'buick estate wagon (sw)', 'buick lesabre custom', 'buick century 350', 'buick electra 225 custom', 'buick century luxus (sw)', 'buick century', 'buick skyhawk', 'buick opel isuzu deluxe', 'buick skylark', 'buick century special', 'buick regal sport coupe (turbo)', 'buick estate wagon (sw)', 'buick skylark limited', 'buick skylark', 'buick century', 'buick century limited']\n"
     ]
    }
   ],
   "source": [
    "buick_names = [i for i in df['name'] if i.startswith('buick')]\n",
    "print(len(buick_names))\n",
    "print(buick_names)"
   ]
  },
  {
   "cell_type": "code",
   "execution_count": 84,
   "id": "2a87eaa1",
   "metadata": {},
   "outputs": [
    {
     "name": "stdout",
     "output_type": "stream",
     "text": [
      "16\n",
      "['pontiac catalina', 'pontiac catalina brougham', 'pontiac safari (sw)', 'pontiac firebird', 'pontiac catalina', 'pontiac grand prix', 'pontiac catalina', 'pontiac astro', 'pontiac ventura sj', 'pontiac grand prix lj', 'pontiac sunbird coupe', 'pontiac phoenix lj', 'pontiac lemans v6', 'pontiac phoenix', 'pontiac j2000 se hatchback', 'pontiac phoenix']\n"
     ]
    }
   ],
   "source": [
    "pontiac_names = [i for i in df['name'] if i.startswith('pontiac')]\n",
    "print(len(pontiac_names))\n",
    "print(pontiac_names)"
   ]
  },
  {
   "cell_type": "code",
   "execution_count": 85,
   "id": "7213b626",
   "metadata": {},
   "outputs": [
    {
     "name": "stdout",
     "output_type": "stream",
     "text": [
      "31\n",
      "['plymouth satellite', 'plymouth fury iii', \"plymouth 'cuda 340\", 'plymouth duster', 'plymouth satellite custom', 'plymouth fury iii', 'plymouth cricket', 'plymouth fury iii', 'plymouth satellite custom (sw)', 'plymouth fury gran sedan', 'plymouth valiant', 'plymouth duster', 'plymouth custom suburb', 'plymouth duster', 'plymouth satellite sebring', 'plymouth valiant custom', 'plymouth grand fury', 'plymouth fury', 'plymouth valiant', 'plymouth volare premier v8', 'plymouth arrow gs', 'plymouth volare custom', 'plymouth volare', 'plymouth sapporo', 'plymouth horizon', 'plymouth horizon tc3', 'plymouth reliant', 'plymouth reliant', 'plymouth champ', 'plymouth horizon 4', 'plymouth horizon miser']\n"
     ]
    }
   ],
   "source": [
    "ply_names = [i for i in df['name'] if i.startswith('plymouth')]\n",
    "print(len(ply_names))\n",
    "print(ply_names)"
   ]
  },
  {
   "cell_type": "code",
   "execution_count": 86,
   "id": "b896b296",
   "metadata": {},
   "outputs": [
    {
     "name": "stdout",
     "output_type": "stream",
     "text": [
      "2\n",
      "['cadillac seville', 'cadillac eldorado']\n"
     ]
    }
   ],
   "source": [
    "cadillac_names = [i for i in df['name'] if i.startswith('cadillac')]\n",
    "print(len(cadillac_names))\n",
    "print(cadillac_names)"
   ]
  },
  {
   "cell_type": "code",
   "execution_count": 105,
   "id": "a2d7408e",
   "metadata": {},
   "outputs": [
    {
     "name": "stdout",
     "output_type": "stream",
     "text": [
      "4\n",
      "['opel 1900', 'opel manta', 'opel manta', 'opel 1900']\n"
     ]
    }
   ],
   "source": [
    "opel_names = [i for i in df['name'] if i.startswith('opel')]\n",
    "print(len(opel_names))\n",
    "print(opel_names)"
   ]
  },
  {
   "cell_type": "code",
   "execution_count": 106,
   "id": "22866f4e",
   "metadata": {},
   "outputs": [
    {
     "name": "stdout",
     "output_type": "stream",
     "text": [
      "4\n",
      "['subaru', 'subaru dl', 'subaru dl', 'subaru']\n"
     ]
    }
   ],
   "source": [
    "subaru_names = [i for i in df['name'] if i.startswith('subaru')]\n",
    "print(len(subaru_names))\n",
    "print(subaru_names)"
   ]
  },
  {
   "cell_type": "code",
   "execution_count": 90,
   "id": "bf580aef",
   "metadata": {},
   "outputs": [
    {
     "name": "stdout",
     "output_type": "stream",
     "text": [
      "10\n",
      "['oldsmobile delta 88 royale', 'oldsmobile vista cruiser', 'oldsmobile omega', 'oldsmobile cutlass supreme', 'oldsmobile cutlass salon brougham', 'oldsmobile starfire sx', 'oldsmobile cutlass salon brougham', 'oldsmobile omega brougham', 'oldsmobile cutlass ls', 'oldsmobile cutlass ciera (diesel)']\n"
     ]
    }
   ],
   "source": [
    "old_names = [i for i in df['name'] if i.startswith('oldsmobile')]\n",
    "print(len(old_names))\n",
    "print(old_names)"
   ]
  },
  {
   "cell_type": "code",
   "execution_count": 91,
   "id": "446d8cf1",
   "metadata": {},
   "outputs": [
    {
     "name": "stdout",
     "output_type": "stream",
     "text": [
      "7\n",
      "['audi 100 ls', 'audi 100ls', 'audi fox', 'audi 100ls', 'audi 5000', 'audi 4000', 'audi 5000s (diesel)']\n"
     ]
    }
   ],
   "source": [
    "audi_names = [i for i in df['name'] if i.startswith('audi')]\n",
    "print(len(audi_names))\n",
    "print(audi_names)"
   ]
  },
  {
   "cell_type": "code",
   "execution_count": 108,
   "id": "c43001dc",
   "metadata": {},
   "outputs": [
    {
     "name": "stdout",
     "output_type": "stream",
     "text": [
      "3\n",
      "['renault 12 (sw)', 'renault 12tl', 'renault 5 gtl']\n"
     ]
    }
   ],
   "source": [
    "ren_names = [i for i in df['name'] if i.startswith('ren')]\n",
    "print(len(ren_names))\n",
    "print(ren_names)"
   ]
  },
  {
   "cell_type": "code",
   "execution_count": 111,
   "id": "ff4214ff",
   "metadata": {},
   "outputs": [
    {
     "name": "stdout",
     "output_type": "stream",
     "text": [
      "2\n",
      "['bmw 2002', 'bmw 320i']\n"
     ]
    }
   ],
   "source": [
    "bmw_names = [i for i in df['name'] if i.startswith('bmw')]\n",
    "print(len(bmw_names))\n",
    "print(bmw_names)"
   ]
  },
  {
   "cell_type": "code",
   "execution_count": 92,
   "id": "2e67cbc9",
   "metadata": {},
   "outputs": [
    {
     "name": "stdout",
     "output_type": "stream",
     "text": [
      "3\n",
      "['chevy c20', 'chevy c10', 'chevy s-10']\n",
      "4\n",
      "['saab 99e', 'saab 99le', 'saab 99le', 'saab 99gle']\n",
      "8\n",
      "['fiat 124b', 'fiat 124 sport coupe', 'fiat 128', 'fiat 128', 'fiat 124 tc', 'fiat x1.9', 'fiat 131', 'fiat strada custom']\n",
      "8\n",
      "['peugeot 504', 'peugeot 304', 'peugeot 504 (sw)', 'peugeot 504', 'peugeot 504', 'peugeot 604sl', 'peugeot 504', 'peugeot 505s turbo diesel']\n",
      "6\n",
      "['chrysler newport royal', 'chrysler new yorker brougham', 'chrysler cordoba', 'chrysler lebaron town @ country (sw)', 'chrysler lebaron salon', 'chrysler lebaron medallion']\n",
      "6\n",
      "['volvo 145e (sw)', 'volvo 144ea', 'volvo 244dl', 'volvo 245', 'volvo 264gl', 'volvo diesel']\n"
     ]
    }
   ],
   "source": [
    "chevy_names = [i for i in df['name'] if i.startswith('chevy')]\n",
    "print(len(chevy_names))\n",
    "print(chevy_names)\n",
    "saab_names = [i for i in df['name'] if i.startswith('saab')]\n",
    "print(len(saab_names))\n",
    "print(saab_names)\n",
    "fiat_names = [i for i in df['name'] if i.startswith('fiat')]\n",
    "print(len(fiat_names))\n",
    "print(fiat_names)\n",
    "peugeot_names = [i for i in df['name'] if i.startswith('peugeot')]\n",
    "print(len(peugeot_names))\n",
    "print(peugeot_names)\n",
    "chrysler_names = [i for i in df['name'] if i.startswith('chrysler')]\n",
    "print(len(chrysler_names))\n",
    "print(chrysler_names)\n",
    "volvo_names = [i for i in df['name'] if i.startswith('volvo')]\n",
    "print(len(volvo_names))\n",
    "print(volvo_names)"
   ]
  },
  {
   "cell_type": "code",
   "execution_count": 112,
   "id": "80ff207c",
   "metadata": {},
   "outputs": [],
   "source": [
    "df['Brand'] = df['name']\n",
    "# df.head()"
   ]
  },
  {
   "cell_type": "code",
   "execution_count": 113,
   "id": "ab067805",
   "metadata": {},
   "outputs": [
    {
     "data": {
      "text/plain": [
       "Ford                 48\n",
       "Chev                 44\n",
       "Ply                  31\n",
       "Dodge                28\n",
       "AMC                  27\n",
       "Toyota               26\n",
       "Datsun               23\n",
       "VW                   22\n",
       "Buick                17\n",
       "Pontaic              16\n",
       "Honda                13\n",
       "Maxda                12\n",
       "Fiat                 12\n",
       "Mercury              11\n",
       "Oldnames             10\n",
       "Peugeot               8\n",
       "Audi                  7\n",
       "Chrys                 6\n",
       "Volvo                 6\n",
       "Subaru                4\n",
       "Saab                  4\n",
       "Renault               3\n",
       "Merz                  3\n",
       "chevy                 3\n",
       "cadillac              2\n",
       "bmw                   2\n",
       "triumph tr7 coupe     1\n",
       "hi 1200d              1\n",
       "capri ii              1\n",
       "nissan stanza xe      1\n",
       "Name: Brand, dtype: int64"
      ]
     },
     "execution_count": 113,
     "metadata": {},
     "output_type": "execute_result"
    }
   ],
   "source": [
    "df['Brand'] = df['Brand'].replace(chev_names,'Chev')\n",
    "df['Brand'] = df['Brand'].replace(ford_names,'Ford')\n",
    "df['Brand'] = df['Brand'].replace(datsun_names,'Datsun')\n",
    "df['Brand'] = df['Brand'].replace(honda_names,'Honda')\n",
    "df['Brand'] = df['Brand'].replace(ply_names,'Ply')\n",
    "df['Brand'] = df['Brand'].replace(toyota_names,'Toyota')\n",
    "df['Brand'] = df['Brand'].replace(amc_names,'AMC')\n",
    "df['Brand'] = df['Brand'].replace(vol_names,'VW')\n",
    "df['Brand'] = df['Brand'].replace(pontiac_names,'Pontaic')\n",
    "df['Brand'] = df['Brand'].replace(buick_names,'Buick')\n",
    "df['Brand'] = df['Brand'].replace(maxda_names,'Maxda')\n",
    "df['Brand'] = df['Brand'].replace(dodge_names ,'Dodge')\n",
    "df['Brand'] = df['Brand'].replace(mer_names,'Mercury')\n",
    "df['Brand'] = df['Brand'].replace(merz_names , 'Merz')\n",
    "df['Brand'] = df['Brand'].replace(audi_names,'Audi')\n",
    "df['Brand'] = df['Brand'].replace(saab_names , 'Saab')\n",
    "df['Brand'] = df['Brand'].replace(volvo_names,'Volvo')\n",
    "df['Brand'] = df['Brand'].replace(chrysler_names , 'Chrys')\n",
    "df['Brand'] = df['Brand'].replace(peugeot_names,'Peugeot')\n",
    "df['Brand'] = df['Brand'].replace(fiat_names, 'Fiat')\n",
    "df['Brand'] = df['Brand'].replace(old_names,'Oldnames')\n",
    "df['Brand'] = df['Brand'].replace(chevy_names, 'chevy')\n",
    "df['Brand'] = df['Brand'].replace(opel_names, 'Fiat')\n",
    "df['Brand'] = df['Brand'].replace(subaru_names,'Subaru')\n",
    "df['Brand'] = df['Brand'].replace(ren_names,'Renault')\n",
    "df['Brand'] = df['Brand'].replace(cadillac_names, 'cadillac')\n",
    "df['Brand'] = df['Brand'].replace(bmw_names, 'bmw')\n",
    "df['Brand'].value_counts()"
   ]
  },
  {
   "cell_type": "code",
   "execution_count": 114,
   "id": "7a1f53f5",
   "metadata": {},
   "outputs": [
    {
     "data": {
      "text/plain": [
       "array(['Chev', 'Buick', 'Ply', 'AMC', 'Ford', 'Pontaic', 'Dodge',\n",
       "       'Toyota', 'Datsun', 'VW', 'Peugeot', 'Audi', 'Saab', 'bmw',\n",
       "       'chevy', 'hi 1200d', 'Mercury', 'Fiat', 'Oldnames', 'Chrys',\n",
       "       'Maxda', 'Volvo', 'Renault', 'Honda', 'Subaru', 'capri ii', 'Merz',\n",
       "       'cadillac', 'triumph tr7 coupe', 'nissan stanza xe'], dtype=object)"
      ]
     },
     "execution_count": 114,
     "metadata": {},
     "output_type": "execute_result"
    }
   ],
   "source": [
    "df['Brand'].unique()"
   ]
  },
  {
   "cell_type": "code",
   "execution_count": null,
   "id": "bfa8680d",
   "metadata": {},
   "outputs": [],
   "source": []
  },
  {
   "cell_type": "code",
   "execution_count": null,
   "id": "48b6b4c3",
   "metadata": {},
   "outputs": [],
   "source": []
  },
  {
   "cell_type": "code",
   "execution_count": null,
   "id": "72330180",
   "metadata": {},
   "outputs": [],
   "source": []
  },
  {
   "cell_type": "code",
   "execution_count": null,
   "id": "0f714d3c",
   "metadata": {},
   "outputs": [],
   "source": []
  },
  {
   "cell_type": "code",
   "execution_count": null,
   "id": "bdbc87a5",
   "metadata": {},
   "outputs": [],
   "source": []
  },
  {
   "cell_type": "code",
   "execution_count": null,
   "id": "f8522219",
   "metadata": {},
   "outputs": [],
   "source": []
  },
  {
   "cell_type": "code",
   "execution_count": null,
   "id": "823812d5",
   "metadata": {},
   "outputs": [],
   "source": []
  },
  {
   "cell_type": "code",
   "execution_count": null,
   "id": "922bfc5a",
   "metadata": {},
   "outputs": [],
   "source": []
  },
  {
   "cell_type": "code",
   "execution_count": null,
   "id": "f8fb433f",
   "metadata": {},
   "outputs": [],
   "source": []
  },
  {
   "cell_type": "code",
   "execution_count": null,
   "id": "9c128f2e",
   "metadata": {},
   "outputs": [],
   "source": []
  },
  {
   "cell_type": "code",
   "execution_count": null,
   "id": "aa465469",
   "metadata": {},
   "outputs": [],
   "source": []
  }
 ],
 "metadata": {
  "kernelspec": {
   "display_name": "Python 3 (ipykernel)",
   "language": "python",
   "name": "python3"
  },
  "language_info": {
   "codemirror_mode": {
    "name": "ipython",
    "version": 3
   },
   "file_extension": ".py",
   "mimetype": "text/x-python",
   "name": "python",
   "nbconvert_exporter": "python",
   "pygments_lexer": "ipython3",
   "version": "3.10.9"
  }
 },
 "nbformat": 4,
 "nbformat_minor": 5
}
